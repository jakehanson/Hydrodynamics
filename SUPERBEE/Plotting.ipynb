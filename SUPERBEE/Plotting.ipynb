{
 "cells": [
  {
   "cell_type": "markdown",
   "metadata": {},
   "source": [
    "## Plot cpp output"
   ]
  },
  {
   "cell_type": "code",
   "execution_count": 12,
   "metadata": {},
   "outputs": [
    {
     "name": "stdout",
     "output_type": "stream",
     "text": [
      "Time:  0.0\n",
      "Time:  6.55656\n",
      "Time:  12.7718\n",
      "Time:  18.8613\n",
      "Time:  24.9302\n",
      "Time:  30.9955\n",
      "Time:  37.0568\n",
      "Time:  43.1135\n",
      "Time:  49.1656\n",
      "Time:  55.2121\n",
      "Time:  61.2488\n",
      "Time:  67.1894\n",
      "Time:  72.8512\n",
      "Time:  78.5372\n",
      "Time:  84.3791\n",
      "Time:  90.4038\n",
      "Time:  96.4306\n",
      "Time:  102.432\n",
      "Time:  108.42\n",
      "Time:  114.394\n",
      "Done\n"
     ]
    }
   ],
   "source": [
    "import numpy as np\n",
    "import pandas as pd\n",
    "import matplotlib.pyplot as plt\n",
    "import seaborn as sns\n",
    "#%matplotlib inline\n",
    "\n",
    "# Remove old data \n",
    "!rm /Users/jakehanson/Desktop/Hydrodynamics/code/plots/*\n",
    "\n",
    "data = pd.read_table('data.txt')\n",
    "\n",
    "plot_counter = 0\n",
    "for each_time in data['time'].unique():\n",
    "    \n",
    "    # Get Data\n",
    "    x = data[data['time'] == each_time]['x']\n",
    "    rho = data[data['time'] == each_time]['rho']\n",
    "    rhou = data[data['time'] == each_time]['rhou']\n",
    "    \n",
    "    # Plot\n",
    "    if(plot_counter % 5 == 0):\n",
    "        print 'Time: ',each_time\n",
    "        plt.title('Time = '+str(each_time))\n",
    "        plt.plot(x,rho)\n",
    "        plt.ylim((1.,1.5))\n",
    "        plt.xlabel('Position')\n",
    "        plt.ylabel(r'Density')\n",
    "        plt.savefig('/Users/jakehanson/Desktop/Hydrodynamics/code/plots/plot_'+str(plot_counter).rjust(6,'0'))\n",
    "        plt.cla()\n",
    "    plot_counter = plot_counter + 1\n",
    "\n",
    "print 'Done'"
   ]
  },
  {
   "cell_type": "code",
   "execution_count": 13,
   "metadata": {},
   "outputs": [
    {
     "name": "stdout",
     "output_type": "stream",
     "text": [
      "Starting...\n",
      "Done.\n"
     ]
    }
   ],
   "source": [
    "print 'Starting...'\n",
    "!convert -delay 20 /Users/jakehanson/Desktop/Hydrodynamics/code/plots/* ~/Desktop/sim_3.gif\n",
    "print 'Done.'"
   ]
  },
  {
   "cell_type": "code",
   "execution_count": null,
   "metadata": {
    "collapsed": true
   },
   "outputs": [],
   "source": []
  }
 ],
 "metadata": {
  "kernelspec": {
   "display_name": "Python 2",
   "language": "python",
   "name": "python2"
  },
  "language_info": {
   "codemirror_mode": {
    "name": "ipython",
    "version": 2
   },
   "file_extension": ".py",
   "mimetype": "text/x-python",
   "name": "python",
   "nbconvert_exporter": "python",
   "pygments_lexer": "ipython2",
   "version": "2.7.13"
  }
 },
 "nbformat": 4,
 "nbformat_minor": 2
}
