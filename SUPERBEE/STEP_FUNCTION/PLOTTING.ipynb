{
 "cells": [
  {
   "cell_type": "markdown",
   "metadata": {},
   "source": [
    "## Notebook to simulate results of slope limiter on discontinuous initial BC"
   ]
  },
  {
   "cell_type": "code",
   "execution_count": 3,
   "metadata": {},
   "outputs": [
    {
     "name": "stdout",
     "output_type": "stream",
     "text": [
      "Done\n"
     ]
    }
   ],
   "source": [
    "import numpy as np\n",
    "import pandas as pd\n",
    "import matplotlib.pyplot as plt\n",
    "import seaborn as sns\n",
    "#%matplotlib inline\n",
    "\n",
    "!rm /Users/jakehanson/Desktop/Hydrodynamics/code/plots/*  # Remove old plots\n",
    "\n",
    "data = pd.read_table('data.txt',header=None,sep='\\t')\n",
    "data = data.T # transpose\n",
    "n_steps = np.size(data.columns)\n",
    "\n",
    "# Plot\n",
    "for i in range(n_steps):\n",
    "    plt.plot(data[i])\n",
    "    plt.ylabel('q(x)')\n",
    "    plt.xlabel('x')\n",
    "    plt.annotate('t = '+str(i),(5,0.1),size=14)\n",
    "    plt.title('SUPERBEE SLOPE LIMITER')\n",
    "    plt.savefig('/Users/jakehanson/Desktop/Hydrodynamics/code/plots/plot_'+str(i).rjust(6,'0'))\n",
    "    plt.cla()\n",
    "    \n",
    "print 'Done'"
   ]
  },
  {
   "cell_type": "code",
   "execution_count": 4,
   "metadata": {},
   "outputs": [
    {
     "name": "stdout",
     "output_type": "stream",
     "text": [
      "Starting...\n",
      "Done.\n"
     ]
    }
   ],
   "source": [
    "## Simulate\n",
    "print 'Starting...'\n",
    "!convert -delay 20 /Users/jakehanson/Desktop/Hydrodynamics/code/plots/* ~/Desktop/sim.gif\n",
    "print 'Done.'"
   ]
  },
  {
   "cell_type": "code",
   "execution_count": null,
   "metadata": {
    "collapsed": true
   },
   "outputs": [],
   "source": []
  }
 ],
 "metadata": {
  "kernelspec": {
   "display_name": "Python 2",
   "language": "python",
   "name": "python2"
  },
  "language_info": {
   "codemirror_mode": {
    "name": "ipython",
    "version": 2
   },
   "file_extension": ".py",
   "mimetype": "text/x-python",
   "name": "python",
   "nbconvert_exporter": "python",
   "pygments_lexer": "ipython2",
   "version": "2.7.13"
  }
 },
 "nbformat": 4,
 "nbformat_minor": 2
}
