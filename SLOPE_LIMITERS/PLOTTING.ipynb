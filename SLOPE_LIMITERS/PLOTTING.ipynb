{
 "cells": [
  {
   "cell_type": "markdown",
   "metadata": {},
   "source": [
    "## Notebook to examine the effects of a Superbee slope limiter on a discontinuous quantity q(x)\n",
    "- After brief initial diffusion (which is unavoidable), the Superbee advection algorithm is able to hold the shape of the step function while the first order Donor Cell algorithm devolves into a gaussian due to numerical diffusion. The Superbee algorithm is flux conserving and total variation diminishing (TVD). This prevents overshoot, which plagues other second order algorithms such as Lax-Wendroff advection (which just uses downwind slope). Overall, it is a relatively robust and accurate second order advection algorithm."
   ]
  },
  {
   "cell_type": "code",
   "execution_count": 6,
   "metadata": {},
   "outputs": [
    {
     "name": "stdout",
     "output_type": "stream",
     "text": [
      "Done\n"
     ]
    }
   ],
   "source": [
    "import numpy as np\n",
    "import pandas as pd\n",
    "import matplotlib.pyplot as plt\n",
    "import seaborn as sns\n",
    "#%matplotlib inline\n",
    "\n",
    "!rm /Users/jakehanson/Desktop/Hydrodynamics/code/plots/*  # Remove old plots\n",
    "\n",
    "# Get Superbee data\n",
    "super_data = pd.read_table('super_data.txt',header=None,sep='\\t')\n",
    "super_data = super_data.T # transpose\n",
    "n_steps = np.size(super_data.columns)\n",
    "\n",
    "# Get Donor-Cell Data\n",
    "donor_data = pd.read_table('donor_data.txt',header=None,sep='\\t')\n",
    "donor_data = donor_data.T # transpose\n",
    "\n",
    "# Get Lax-Wendroff Data\n",
    "lax_data = pd.read_table('lax_data.txt',header=None,sep='\\t')\n",
    "lax_data = lax_data.T # transpose\n",
    "\n",
    "# Plot\n",
    "for i in range(n_steps):\n",
    "    plt.plot(super_data[i],label='Superbee')\n",
    "    plt.plot(donor_data[i],alpha=0.5,label='Donor Cell')\n",
    "    plt.plot(lax_data[i],alpha=0.5,label='Lax-Wendroff')\n",
    "    plt.ylabel('q(x)')\n",
    "    plt.xlabel('x')\n",
    "    plt.ylim((-0.5,1.5))\n",
    "    plt.annotate('t = '+str(i),(5,0.1),size=14)\n",
    "    plt.title('ADVECTION ALGORITHMS')\n",
    "    plt.legend()\n",
    "    plt.savefig('/Users/jakehanson/Desktop/Hydrodynamics/code/plots/plot_'+str(i).rjust(6,'0'))\n",
    "    plt.cla()\n",
    "    \n",
    "print 'Done'"
   ]
  },
  {
   "cell_type": "code",
   "execution_count": 7,
   "metadata": {},
   "outputs": [
    {
     "name": "stdout",
     "output_type": "stream",
     "text": [
      "Starting...\n",
      "Done.\n"
     ]
    }
   ],
   "source": [
    "## Simulate\n",
    "print 'Starting...'\n",
    "!convert -delay 20 /Users/jakehanson/Desktop/Hydrodynamics/code/plots/* ~/Desktop/sim.gif\n",
    "print 'Done.'"
   ]
  },
  {
   "cell_type": "code",
   "execution_count": null,
   "metadata": {
    "collapsed": true
   },
   "outputs": [],
   "source": []
  }
 ],
 "metadata": {
  "kernelspec": {
   "display_name": "Python 2",
   "language": "python",
   "name": "python2"
  },
  "language_info": {
   "codemirror_mode": {
    "name": "ipython",
    "version": 2
   },
   "file_extension": ".py",
   "mimetype": "text/x-python",
   "name": "python",
   "nbconvert_exporter": "python",
   "pygments_lexer": "ipython2",
   "version": "2.7.13"
  }
 },
 "nbformat": 4,
 "nbformat_minor": 2
}
