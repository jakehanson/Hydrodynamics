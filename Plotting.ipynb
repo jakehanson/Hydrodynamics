{
 "cells": [
  {
   "cell_type": "markdown",
   "metadata": {},
   "source": [
    "## Plot cpp output"
   ]
  },
  {
   "cell_type": "code",
   "execution_count": null,
   "metadata": {},
   "outputs": [
    {
     "name": "stdout",
     "output_type": "stream",
     "text": [
      "Time:  0.0\n",
      "Time:  6.55679\n",
      "Time:  12.7754\n",
      "Time:  18.8709\n",
      "Time:  24.9483\n",
      "Time:  31.026\n",
      "Time:  37.1047\n",
      "Time:  43.184\n",
      "Time:  49.2635\n",
      "Time:  55.3436\n",
      "Time:  61.4276\n",
      "Time:  67.5625\n",
      "Time:  73.8878\n",
      "Time:  80.4203\n",
      "Time:  86.7228\n",
      "Time:  92.8438\n",
      "Time:  98.9092\n",
      "Time:  104.969\n",
      "Time:  111.027\n",
      "Time:  117.084\n",
      "Time:  123.138\n",
      "Time:  129.19\n",
      "Time:  135.24\n",
      "Time:  141.309\n",
      "Time:  147.537\n",
      "Time:  153.97\n",
      "Time:  160.334\n",
      "Time:  166.506\n",
      "Time:  172.561\n",
      "Time:  178.581\n",
      "Time:  184.6\n",
      "Time:  190.619\n",
      "Time:  196.637\n",
      "Time:  202.655\n",
      "Time:  208.671\n",
      "Time:  214.689\n",
      "Time:  220.775\n",
      "Time:  227.102\n",
      "Time:  233.51\n",
      "Time:  239.762\n",
      "Time:  245.878\n",
      "Time:  251.905\n",
      "Time:  257.905\n",
      "Time:  263.907\n",
      "Time:  269.91\n",
      "Time:  275.914\n",
      "Time:  281.919\n",
      "Time:  287.925\n",
      "Time:  293.939\n",
      "Time:  300.125\n",
      "Time:  306.488\n",
      "Time:  312.834\n",
      "Time:  319.042\n",
      "Time:  325.144\n",
      "Time:  331.174\n",
      "Time:  337.178\n",
      "Time:  343.185\n",
      "Time:  349.194\n",
      "Time:  355.205\n",
      "Time:  361.219\n",
      "Time:  367.234\n",
      "Time:  373.277\n",
      "Time:  379.571\n",
      "Time:  385.93\n",
      "Time:  392.246\n",
      "Time:  398.438\n",
      "Time:  404.545\n",
      "Time:  410.59\n",
      "Time:  416.61\n",
      "Time:  422.633\n",
      "Time:  428.66\n",
      "Time:  434.69\n",
      "Time:  440.722\n",
      "Time:  446.758\n",
      "Time:  452.892\n",
      "Time:  459.244\n",
      "Time:  465.605\n",
      "Time:  471.897\n",
      "Time:  478.092\n",
      "Time:  484.212\n",
      "Time:  490.277\n",
      "Time:  496.321\n",
      "Time:  502.367\n",
      "Time:  508.417\n",
      "Time:  514.469\n",
      "Time:  520.524\n",
      "Time:  526.591\n",
      "Time:  532.851\n",
      "Time:  539.199\n",
      "Time:  545.583\n",
      "Time:  551.855\n"
     ]
    }
   ],
   "source": [
    "import numpy as np\n",
    "import pandas as pd\n",
    "import matplotlib.pyplot as plt\n",
    "import seaborn as sns\n",
    "#%matplotlib inline\n",
    "\n",
    "# Remove old data \n",
    "!rm /Users/jakehanson/Desktop/Hydrodynamics/code/plots/*\n",
    "\n",
    "data = pd.read_table('data.txt')\n",
    "\n",
    "plot_counter = 0\n",
    "for each_time in data['time'].unique():\n",
    "    \n",
    "    # Get Data\n",
    "    x = data[data['time'] == each_time]['x']\n",
    "    rho = data[data['time'] == each_time]['rho']\n",
    "    rhou = data[data['time'] == each_time]['rhou']\n",
    "    \n",
    "    # Plot\n",
    "    if(plot_counter % 5 == 0):\n",
    "        print 'Time: ',each_time\n",
    "        plt.title('Time = '+str(each_time))\n",
    "        plt.plot(x,rho)\n",
    "        plt.ylim((1.,1.5))\n",
    "        plt.xlabel('Position')\n",
    "        plt.ylabel(r'Density')\n",
    "        plt.savefig('/Users/jakehanson/Desktop/Hydrodynamics/code/plots/plot_'+str(plot_counter).rjust(6,'0'))\n",
    "        plt.cla()\n",
    "    plot_counter = plot_counter + 1\n",
    "\n",
    "print 'Done'"
   ]
  },
  {
   "cell_type": "code",
   "execution_count": 2,
   "metadata": {},
   "outputs": [
    {
     "name": "stdout",
     "output_type": "stream",
     "text": [
      "Done.\n"
     ]
    }
   ],
   "source": [
    "print 'Starting...'\n",
    "!convert -delay 20 /Users/jakehanson/Desktop/Hydrodynamics/code/plots/* ~/Desktop/sim.gif\n",
    "print 'Done.'"
   ]
  },
  {
   "cell_type": "code",
   "execution_count": null,
   "metadata": {
    "collapsed": true
   },
   "outputs": [],
   "source": []
  }
 ],
 "metadata": {
  "kernelspec": {
   "display_name": "Python 2",
   "language": "python",
   "name": "python2"
  },
  "language_info": {
   "codemirror_mode": {
    "name": "ipython",
    "version": 2
   },
   "file_extension": ".py",
   "mimetype": "text/x-python",
   "name": "python",
   "nbconvert_exporter": "python",
   "pygments_lexer": "ipython2",
   "version": "2.7.13"
  }
 },
 "nbformat": 4,
 "nbformat_minor": 2
}
