{
 "cells": [
  {
   "cell_type": "markdown",
   "metadata": {},
   "source": [
    "## Plot cpp output"
   ]
  },
  {
   "cell_type": "code",
   "execution_count": null,
   "metadata": {},
   "outputs": [
    {
     "name": "stdout",
     "output_type": "stream",
     "text": [
      "Time:  0.0\n",
      "Time:  1.95547\n",
      "Time:  3.862\n",
      "Time:  5.72623\n",
      "Time:  7.55568\n",
      "Time:  9.35774\n",
      "Time:  11.1387\n",
      "Time:  12.9054\n",
      "Time:  14.6624\n",
      "Time:  16.4138\n",
      "Time:  18.1624\n",
      "Time:  19.9098\n",
      "Time:  21.6565\n",
      "Time:  23.403\n",
      "Time:  25.1492\n",
      "Time:  26.8954\n",
      "Time:  28.6413\n",
      "Time:  30.387\n",
      "Time:  32.1325\n",
      "Time:  33.8779\n",
      "Time:  35.6231\n",
      "Time:  37.368\n",
      "Time:  39.1126\n",
      "Time:  40.8571\n",
      "Time:  42.6014\n",
      "Time:  44.3454\n",
      "Time:  46.0891\n"
     ]
    }
   ],
   "source": [
    "import numpy as np\n",
    "import pandas as pd\n",
    "import matplotlib.pyplot as plt\n",
    "import seaborn as sns\n",
    "#%matplotlib inline\n",
    "\n",
    "# Remove old data \n",
    "!rm /Users/jakehanson/Desktop/Hydrodynamics/code/plots/*\n",
    "\n",
    "data = pd.read_table('data.txt')\n",
    "\n",
    "plot_counter = 0\n",
    "for each_time in data['time'].unique():\n",
    "    \n",
    "    # Get Data\n",
    "    x = data[data['time'] == each_time]['x']\n",
    "    rho = data[data['time'] == each_time]['rho']\n",
    "    rhou = data[data['time'] == each_time]['rhou']\n",
    "    \n",
    "    # Plot\n",
    "    if(plot_counter % 5 == 0):\n",
    "        print 'Time: ',each_time\n",
    "        #plt.title('Time = '+str(each_time))\n",
    "        plt.title('Isothermal')\n",
    "        plt.plot(x,rho)\n",
    "        plt.xlim((0,100))\n",
    "        plt.ylim((1.,1.5))\n",
    "        plt.xlabel('Position')\n",
    "        plt.ylabel(r'Density')\n",
    "        plt.savefig('/Users/jakehanson/Desktop/Hydrodynamics/code/plots/plot_'+str(plot_counter).rjust(6,'0'))\n",
    "        plt.cla()\n",
    "    plot_counter = plot_counter + 1\n",
    "\n",
    "print 'Done'"
   ]
  },
  {
   "cell_type": "code",
   "execution_count": 16,
   "metadata": {},
   "outputs": [
    {
     "name": "stdout",
     "output_type": "stream",
     "text": [
      "Starting...\n",
      "Done.\n"
     ]
    }
   ],
   "source": [
    "print 'Starting...'\n",
    "!convert -delay 20 /Users/jakehanson/Desktop/Hydrodynamics/code/plots/* ~/Desktop/iso_ghost.gif\n",
    "print 'Done.'"
   ]
  },
  {
   "cell_type": "code",
   "execution_count": null,
   "metadata": {
    "collapsed": true
   },
   "outputs": [],
   "source": []
  }
 ],
 "metadata": {
  "kernelspec": {
   "display_name": "Python 2",
   "language": "python",
   "name": "python2"
  },
  "language_info": {
   "codemirror_mode": {
    "name": "ipython",
    "version": 2
   },
   "file_extension": ".py",
   "mimetype": "text/x-python",
   "name": "python",
   "nbconvert_exporter": "python",
   "pygments_lexer": "ipython2",
   "version": "2.7.13"
  }
 },
 "nbformat": 4,
 "nbformat_minor": 2
}
