{
 "cells": [
  {
   "cell_type": "markdown",
   "metadata": {},
   "source": [
    "## Solve the following 1d balloon pop problem (linear acoustics)"
   ]
  },
  {
   "cell_type": "markdown",
   "metadata": {},
   "source": [
    "\\begin{equation*}\n",
    "A =  \\begin{vmatrix}\n",
    "0 & K_0 \\\\\n",
    "1/\\rho_0 & 0\n",
    "\\end{vmatrix}\n",
    "\\end{equation*}\n",
    "\n",
    "\n",
    "Initial Conditions:\n",
    "\n",
    "$p_0(x) = 1$ if $1 <= x <= 2$\n",
    "\n",
    "$p_0(x) = 0$ else\n",
    "\n",
    "$u_0(x) = 0$\n"
   ]
  },
  {
   "cell_type": "markdown",
   "metadata": {},
   "source": [
    "#### Plot initial conditions"
   ]
  },
  {
   "cell_type": "code",
   "execution_count": 13,
   "metadata": {},
   "outputs": [
    {
     "data": {
      "image/png": "[encoded data removed]",
      "text/plain": [
       "<matplotlib.figure.Figure at 0x110abb690>"
      ]
     },
     "metadata": {},
     "output_type": "display_data"
    },
    {
     "data": {
      "image/png": "[encoded data removed]",
      "text/plain": [
       "<matplotlib.figure.Figure at 0x110ae2690>"
      ]
     },
     "metadata": {},
     "output_type": "display_data"
    }
   ],
   "source": [
    "import numpy as np\n",
    "import matplotlib.pyplot as plt\n",
    "import seaborn as sns\n",
    "%matplotlib inline\n",
    "\n",
    "x = np.linspace(0,4,500)\n",
    "p = np.zeros(np.size(x))\n",
    "u = np.zeros(np.size(x))\n",
    "\n",
    "for i in range(np.size(x)):\n",
    "    if 1 <= x[i] and x[i] <= 2:\n",
    "        p[i] = 1.\n",
    "        \n",
    "plt.plot(x,p)\n",
    "plt.xlabel('x')\n",
    "plt.ylabel('p')\n",
    "plt.title('Initial Pressure')\n",
    "plt.ylim((-0.1,np.max(p)+0.1))\n",
    "plt.show()\n",
    "\n",
    "plt.plot(x,u,color='green')\n",
    "plt.xlabel('x')\n",
    "plt.ylabel('u')\n",
    "plt.title('Initial Velocity')\n",
    "plt.ylim((-0.1,np.max(p)+0.1))\n",
    "plt.show()"
   ]
  },
  {
   "cell_type": "markdown",
   "metadata": {},
   "source": [
    "### Now need to solve the riemann problem at each discontinuity"
   ]
  },
  {
   "cell_type": "code",
   "execution_count": 25,
   "metadata": {},
   "outputs": [
    {
     "name": "stdout",
     "output_type": "stream",
     "text": [
      "Alpha 1:\n",
      "[-1.11803399  1.11803399]\n",
      "Original Jump:\n",
      "[ 1.  0.]\n",
      "Recovered Jump:\n",
      "[  1.00000000e+00   2.26966063e-17]\n"
     ]
    }
   ],
   "source": [
    "# Initialize \n",
    "rho_0 = 1.0\n",
    "K_0 = 0.25\n",
    "c_0 = np.sqrt(K_0/rho_0)  # sound speed\n",
    "Z_0 = rho_0*c_0   # impedence\n",
    "\n",
    "# Coefficient array\n",
    "A = [[0,K_0],[1./rho_0,0]]\n",
    "\n",
    "# Get eigenvectors and eigenvalues of coefficient array\n",
    "eigenvalues,R = np.linalg.eig(A)\n",
    "\n",
    "# Sort in ascending order\n",
    "index = np.argsort(eigenvalues)\n",
    "eigenvalues = eigenvalues[index]\n",
    "R = R[:,index] # note COLUMN R[:,i] is the eigenvector for eigenvalue i\n",
    "\n",
    "L = np.linalg.inv(R) # Get R^-1\n",
    "\n",
    "\n",
    "left_jump = [1.,0]  # q_r - q_l for the left side of the pressure perturbation\n",
    "right_jump = [-1.,0]  # q_r - q_l for the right side of the pressure perturbation\n",
    "\n",
    "alpha_1 = np.matmul(L,left_jump)  # get strenth of jump across left characteristics\n",
    "alpha_2 = np.matmul(L,right_jump)  # get strenth of jump across left characteristics\n",
    "\n",
    "\n",
    "# Check that the decomposition is working\n",
    "test_jump = np.matmul(R,alpha_1)\n",
    "print 'Alpha 1:\\n',alpha_1\n",
    "print 'Original Jump:\\n',np.asarray(left_jump)\n",
    "print 'Recovered Jump:\\n',test_jump"
   ]
  },
  {
   "cell_type": "markdown",
   "metadata": {},
   "source": [
    "#### Now compose solution space based on the strength of each jump across its respective characteristic"
   ]
  },
  {
   "cell_type": "code",
   "execution_count": 58,
   "metadata": {
    "collapsed": true
   },
   "outputs": [],
   "source": [
    "# Initializie far left and far right q-values\n",
    "q_left = [0.,0.]\n",
    "q_right = [0.,0.]\n",
    "\n",
    "W1 = alpha_1[0]*R[:,0]  # jump across left-bound left-characteristic\n",
    "W2 = alpha_1[1]*R[:,1]  #jump across right-bound left-characteristic\n",
    "W3 = alpha_2[0]*R[:,0]  # jump across left-bound right-characteristic\n",
    "W4 = alpha_2[1]*R[:,1]  #jump across right-bound right-characteristic\n",
    "W_array = [W1,W2,W3,W4]\n",
    "\n",
    "x_0 = [1.,1.,2.,2.]  # starting location of the characteristics\n",
    "eigenval_array = [eigenvalues[0],eigenvalues[1],eigenvalues[0],eigenvalues[1]] # eigenvalues of characteristics\n",
    "\n",
    "# Define function to return q\n",
    "def q(x,t,index):\n",
    "    q = q_left[index]\n",
    "    # Check if we have crossed each characteristic\n",
    "    for i in range(np.shape(W_array)[0]):\n",
    "        if (x-eigenval_array[i]*t) >= x_0[i]:\n",
    "            q = q + W_array[i][index]\n",
    "    return q"
   ]
  },
  {
   "cell_type": "code",
   "execution_count": 100,
   "metadata": {},
   "outputs": [
    {
     "ename": "TypeError",
     "evalue": "'int' object has no attribute '__getitem__'",
     "output_type": "error",
     "traceback": [
      "\u001b[0;31m---------------------------------------------------------------------------\u001b[0m",
      "\u001b[0;31mTypeError\u001b[0m                                 Traceback (most recent call last)",
      "\u001b[0;32m<ipython-input-100-66adfcea43b2>\u001b[0m in \u001b[0;36m<module>\u001b[0;34m()\u001b[0m\n\u001b[1;32m      6\u001b[0m \u001b[0;34m\u001b[0m\u001b[0m\n\u001b[1;32m      7\u001b[0m \u001b[0;31m# Get solution for each variable\u001b[0m\u001b[0;34m\u001b[0m\u001b[0;34m\u001b[0m\u001b[0m\n\u001b[0;32m----> 8\u001b[0;31m \u001b[0;32mfor\u001b[0m \u001b[0mvariable_index\u001b[0m \u001b[0;32min\u001b[0m \u001b[0mrange\u001b[0m\u001b[0;34m(\u001b[0m\u001b[0mnp\u001b[0m\u001b[0;34m.\u001b[0m\u001b[0msize\u001b[0m\u001b[0;34m(\u001b[0m\u001b[0mq_left\u001b[0m\u001b[0;34m)\u001b[0m\u001b[0;34m[\u001b[0m\u001b[0;36m0\u001b[0m\u001b[0;34m]\u001b[0m\u001b[0;34m)\u001b[0m\u001b[0;34m:\u001b[0m\u001b[0;34m\u001b[0m\u001b[0m\n\u001b[0m\u001b[1;32m      9\u001b[0m     \u001b[0;32mprint\u001b[0m \u001b[0;34m'Obtaining Solution for Variable'\u001b[0m\u001b[0;34m,\u001b[0m\u001b[0mvariable_index\u001b[0m\u001b[0;34m+\u001b[0m\u001b[0;36m1\u001b[0m\u001b[0;34m\u001b[0m\u001b[0m\n\u001b[1;32m     10\u001b[0m \u001b[0;34m\u001b[0m\u001b[0m\n",
      "\u001b[0;31mTypeError\u001b[0m: 'int' object has no attribute '__getitem__'"
     ]
    }
   ],
   "source": [
    "x_space = np.linspace(0,4,201)\n",
    "t_space = np.linspace(0,4,201)\n",
    "\n",
    "Names = ['Pressure','Velocity']\n",
    "\n",
    "\n",
    "# Get solution for each variable\n",
    "for variable_index in range(np.size(q_left)[0]):\n",
    "    print 'Obtaining Solution for Variable',variable_index+1\n",
    "    \n",
    "    solution = np.zeros((np.size(x_space),np.size(t_space)))\n",
    "    for i in range(np.size(x_space)):\n",
    "        for j in range(np.size(t_space)):\n",
    "            solution[i][j] = q(x_space[i],t_space[j],variable_index)  # solution[col][row]\n",
    "\n",
    "    ## Plot\n",
    "    plt.pcolormesh(x_space,t_space,solution.T,cmap='Greens',vmin=0.,vmax=1.1)\n",
    "    plt.colorbar()\n",
    "    for i in range(np.size(eigenval_array)):\n",
    "        plt.plot(x_space,1./eigenval_array[i]*(x_space-x_0[i]),color='black')\n",
    "    plt.ylim((0,np.max(t_space)))\n",
    "    plt.xlim((np.min(x_space),np.max(x_space)))\n",
    "    plt.title(Names[variable_index])\n",
    "    plt.annotate(r'-c$_0$T',(0.2,1.5),rotation=-60,size=14)\n",
    "    plt.annotate(r'c$_0$T',(2.4,1.5),rotation=60,size=14)\n",
    "\n",
    "    plt.xlabel('X')\n",
    "    plt.ylabel('T')\n",
    "    #plt.savefig('variable_'+str(variable_index)+'.pdf')\n",
    "    #plt.clf()\n",
    "    plt.show()\n",
    "print 'Done'"
   ]
  },
  {
   "cell_type": "code",
   "execution_count": 54,
   "metadata": {},
   "outputs": [
    {
     "name": "stdout",
     "output_type": "stream",
     "text": [
      "[-0.4472136   0.89442719]\n",
      "[ 0.4472136   0.89442719]\n"
     ]
    }
   ],
   "source": [
    "print R[:,0]\n",
    "print R[:,1]"
   ]
  },
  {
   "cell_type": "code",
   "execution_count": null,
   "metadata": {
    "collapsed": true
   },
   "outputs": [],
   "source": []
  }
 ],
 "metadata": {
  "kernelspec": {
   "display_name": "Python 2",
   "language": "python",
   "name": "python2"
  },
  "language_info": {
   "codemirror_mode": {
    "name": "ipython",
    "version": 2
   },
   "file_extension": ".py",
   "mimetype": "text/x-python",
   "name": "python",
   "nbconvert_exporter": "python",
   "pygments_lexer": "ipython2",
   "version": "2.7.13"
  }
 },
 "nbformat": 4,
 "nbformat_minor": 2
}
