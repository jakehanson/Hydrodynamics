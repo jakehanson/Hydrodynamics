{
 "cells": [
  {
   "cell_type": "markdown",
   "metadata": {},
   "source": [
    "## Notebook to solve the following riemann problem. Plot solution in x-t plane"
   ]
  },
  {
   "cell_type": "markdown",
   "metadata": {},
   "source": [
    "\\begin{equation*}\n",
    "A =  \\begin{vmatrix}\n",
    "0 & 0 & 4 \\\\\n",
    "0 & 1 & 0 \\\\\n",
    "1 & 0 & 0\n",
    "\\end{vmatrix}\n",
    "\\end{equation*}\n",
    "\n",
    "\\begin{equation*}\n",
    "(q_r-q_l) =  \\begin{vmatrix}\n",
    "0 \\\\\n",
    "3 \\\\\n",
    "1\n",
    "\\end{vmatrix}\n",
    "\\end{equation*}"
   ]
  },
  {
   "cell_type": "markdown",
   "metadata": {},
   "source": [
    "###  Solve the riemann problem (decompose the jump into waves from the basis set created using the eigenvectors of A)"
   ]
  },
  {
   "cell_type": "code",
   "execution_count": 3,
   "metadata": {},
   "outputs": [
    {
     "name": "stdout",
     "output_type": "stream",
     "text": [
      "Alpha:\n",
      "[[ 1.11803399]\n",
      " [ 3.        ]\n",
      " [ 1.11803399]]\n",
      "Original Jump:\n",
      "[[0]\n",
      " [3]\n",
      " [1]]\n",
      "Recovered Jump:\n",
      "[[ -5.17794183e-17]\n",
      " [  3.00000000e+00]\n",
      " [  1.00000000e+00]]\n"
     ]
    }
   ],
   "source": [
    "import numpy as np\n",
    "\n",
    "A = [[0,0,4],[0,1,0],[1,0,0]]  # coefficient array\n",
    "jump = [[0],[3],[1]]  # (q_r-q_l) array\n",
    "\n",
    "eigenvalues,R = np.linalg.eig(A) # compute eigenvalues and right eigenvalues of A\n",
    "\n",
    "# Sort in ascending order\n",
    "index = np.argsort(eigenvalues)\n",
    "eigenvalues = eigenvalues[index]\n",
    "R = R[:,index] # note COLUMN R[:,i] is the eigenvector for eigenvalue i\n",
    "\n",
    "L = np.linalg.inv(R) # Get R^-1\n",
    "\n",
    "alpha = np.matmul(L,jump)  # get strenth of jump across p characteristic\n",
    "\n",
    "print 'Alpha:\\n',alpha\n",
    "\n",
    "# check that we have decomposed our jump into the new basis\n",
    "test_jump = np.matmul(R,alpha)\n",
    "\n",
    "print 'Original Jump:\\n',np.asarray(jump)\n",
    "print 'Recovered Jump:\\n',test_jump"
   ]
  },
  {
   "cell_type": "markdown",
   "metadata": {},
   "source": [
    "### Plot solution in x-t plane"
   ]
  },
  {
   "cell_type": "code",
   "execution_count": 6,
   "metadata": {},
   "outputs": [
    {
     "name": "stdout",
     "output_type": "stream",
     "text": [
      "Obtaining Solution for Variable 0\n",
      "Obtaining Solution for Variable 1\n",
      "Obtaining Solution for Variable 2\n",
      "Done\n"
     ]
    },
    {
     "data": {
      "text/plain": [
       "<matplotlib.figure.Figure at 0x1095f3f50>"
      ]
     },
     "metadata": {},
     "output_type": "display_data"
    }
   ],
   "source": [
    "import matplotlib.pyplot as plt\n",
    "import seaborn as sns\n",
    "%matplotlib inline\n",
    "\n",
    "q_left = [1,2,0]  # vector of left values\n",
    "q_right = [1,5,1]\n",
    "\n",
    "def q(x,t,index):\n",
    "    q = q_left[index]\n",
    "    for i in range(np.size(eigenvalues)):\n",
    "        if (x-eigenvalues[i]*t) > 0:\n",
    "            q = q + alpha[i]*R[:,i][index]\n",
    "    return q\n",
    "\n",
    "x_space = np.linspace(-20,20,501)\n",
    "t_space = np.linspace(0,50,251)\n",
    "\n",
    "\n",
    "# Get solution for each variable\n",
    "for variable_index in range(np.size(q_left)):\n",
    "    print 'Obtaining Solution for Variable',variable_index\n",
    "    \n",
    "    solution = np.zeros((np.size(x_space),np.size(t_space)))\n",
    "    for i in range(np.size(x_space)):\n",
    "        for j in range(np.size(t_space)):\n",
    "            solution[i][j] = q(x_space[i],t_space[j],variable_index)  # solution[col][row]\n",
    "\n",
    "    ## Plot\n",
    "    plt.pcolormesh(x_space,t_space,solution.T,cmap='Greens',vmin=0.,vmax=5.)\n",
    "    plt.colorbar()\n",
    "    for i in range(np.size(eigenvalues)):\n",
    "        plt.plot(x_space,1./eigenvalues[i]*x_space,color='black')\n",
    "    plt.ylim((0,np.max(t_space)))\n",
    "    plt.xlim((np.min(x_space),np.max(x_space)))\n",
    "    plt.title('Variable '+str(variable_index+1))\n",
    "    plt.annotate(r'$\\lambda_1$T',(-15,8))\n",
    "    plt.annotate(r'$\\lambda_2$T',(10,13))\n",
    "    plt.annotate(r'$\\lambda_3$T',(15,10))\n",
    "    plt.xlabel('X')\n",
    "    plt.ylabel('T')\n",
    "    plt.savefig('variable_'+str(variable_index)+'.pdf')\n",
    "    plt.clf()\n",
    "    #plt.show()\n",
    "print 'Done'"
   ]
  },
  {
   "cell_type": "markdown",
   "metadata": {},
   "source": [
    "### The solution is correct.\n",
    "- Variable 1 goes from 1 to 1 with a drop down to zero at the first characteristic and a jump back up to one at the last.\n",
    "- Variable 2 goes from 2 to 5 with the entire jump coming across the second characteristic\n",
    "- Variable 3 goes from 0 to 1 with a fraction of the jump across the first characteristic and a fraction across the last."
   ]
  },
  {
   "cell_type": "code",
   "execution_count": null,
   "metadata": {
    "collapsed": true
   },
   "outputs": [],
   "source": [
    "print 'done'"
   ]
  },
  {
   "cell_type": "code",
   "execution_count": null,
   "metadata": {
    "collapsed": true
   },
   "outputs": [],
   "source": []
  }
 ],
 "metadata": {
  "kernelspec": {
   "display_name": "Python 2",
   "language": "python",
   "name": "python2"
  },
  "language_info": {
   "codemirror_mode": {
    "name": "ipython",
    "version": 2
   },
   "file_extension": ".py",
   "mimetype": "text/x-python",
   "name": "python",
   "nbconvert_exporter": "python",
   "pygments_lexer": "ipython2",
   "version": "2.7.13"
  }
 },
 "nbformat": 4,
 "nbformat_minor": 2
}
